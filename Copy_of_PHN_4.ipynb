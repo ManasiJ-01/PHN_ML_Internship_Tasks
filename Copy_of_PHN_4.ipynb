{
  "nbformat": 4,
  "nbformat_minor": 0,
  "metadata": {
    "colab": {
      "provenance": []
    },
    "kernelspec": {
      "name": "python3",
      "display_name": "Python 3"
    },
    "language_info": {
      "name": "python"
    }
  },
  "cells": [
    {
      "cell_type": "code",
      "execution_count": null,
      "metadata": {
        "id": "6Rf2NACXWkig"
      },
      "outputs": [],
      "source": [
        "import numpy as np"
      ]
    },
    {
      "cell_type": "code",
      "source": [
        "array = np.array([1,2,3,4,5])\n",
        "array"
      ],
      "metadata": {
        "colab": {
          "base_uri": "https://localhost:8080/"
        },
        "id": "x9FKXexJXNV-",
        "outputId": "bda7620c-8537-42b9-9a31-8530c225b127"
      },
      "execution_count": null,
      "outputs": [
        {
          "output_type": "execute_result",
          "data": {
            "text/plain": [
              "array([1, 2, 3, 4, 5])"
            ]
          },
          "metadata": {},
          "execution_count": 41
        }
      ]
    },
    {
      "cell_type": "code",
      "source": [
        "shape = array.shape\n",
        "shape"
      ],
      "metadata": {
        "id": "QTl3fqD0XNAr",
        "colab": {
          "base_uri": "https://localhost:8080/"
        },
        "outputId": "a7322b66-7bbe-49ae-e98b-1125c1b5058c"
      },
      "execution_count": null,
      "outputs": [
        {
          "output_type": "execute_result",
          "data": {
            "text/plain": [
              "(5,)"
            ]
          },
          "metadata": {},
          "execution_count": 43
        }
      ]
    },
    {
      "cell_type": "markdown",
      "source": [
        "Reshape 1d to 2d"
      ],
      "metadata": {
        "id": "ClqIPhxFhGXB"
      }
    },
    {
      "cell_type": "code",
      "source": [
        "array1 = np.arange(6)\n",
        "array1.reshape(2,3)"
      ],
      "metadata": {
        "id": "DX6ZuM3UXMsE",
        "colab": {
          "base_uri": "https://localhost:8080/"
        },
        "outputId": "5b287b81-32e8-49b4-c791-d1179300c3f9"
      },
      "execution_count": null,
      "outputs": [
        {
          "output_type": "execute_result",
          "data": {
            "text/plain": [
              "array([[0, 1, 2],\n",
              "       [3, 4, 5]])"
            ]
          },
          "metadata": {},
          "execution_count": 44
        }
      ]
    },
    {
      "cell_type": "code",
      "source": [
        "array2 = np.array([6,7,8,9,10])\n",
        "array2"
      ],
      "metadata": {
        "id": "VGEUNIMCXMYv",
        "colab": {
          "base_uri": "https://localhost:8080/"
        },
        "outputId": "69df5750-e283-4c34-8249-9c644e4eabef"
      },
      "execution_count": null,
      "outputs": [
        {
          "output_type": "execute_result",
          "data": {
            "text/plain": [
              "array([ 6,  7,  8,  9, 10])"
            ]
          },
          "metadata": {},
          "execution_count": 45
        }
      ]
    },
    {
      "cell_type": "markdown",
      "source": [
        "Concatenate arrays"
      ],
      "metadata": {
        "id": "3G8qi5NHg-rY"
      }
    },
    {
      "cell_type": "code",
      "source": [
        "final_arr = np.concatenate((array1,array2),axis=0)\n",
        "final_arr"
      ],
      "metadata": {
        "id": "-pxnYJuKXL-8",
        "colab": {
          "base_uri": "https://localhost:8080/"
        },
        "outputId": "d0551d97-a33d-4a2e-fc5d-7fb2a7183e8d"
      },
      "execution_count": null,
      "outputs": [
        {
          "output_type": "execute_result",
          "data": {
            "text/plain": [
              "array([ 0,  1,  2,  3,  4,  5,  6,  7,  8,  9, 10])"
            ]
          },
          "metadata": {},
          "execution_count": 46
        }
      ]
    },
    {
      "cell_type": "markdown",
      "source": [
        "Calculate mean, standard deviation and median"
      ],
      "metadata": {
        "id": "SHVqFr24g26V"
      }
    },
    {
      "cell_type": "code",
      "source": [
        "final_arr.mean()"
      ],
      "metadata": {
        "id": "f4_4r4-4XK_b",
        "colab": {
          "base_uri": "https://localhost:8080/"
        },
        "outputId": "79387a56-de87-41a9-dba9-be6fd0834205"
      },
      "execution_count": null,
      "outputs": [
        {
          "output_type": "execute_result",
          "data": {
            "text/plain": [
              "5.0"
            ]
          },
          "metadata": {},
          "execution_count": 47
        }
      ]
    },
    {
      "cell_type": "code",
      "source": [
        "final_arr.std()"
      ],
      "metadata": {
        "colab": {
          "base_uri": "https://localhost:8080/"
        },
        "id": "9gg95ayPfZHm",
        "outputId": "47383508-79e6-46b2-9f61-2aea85a29b1b"
      },
      "execution_count": null,
      "outputs": [
        {
          "output_type": "execute_result",
          "data": {
            "text/plain": [
              "3.1622776601683795"
            ]
          },
          "metadata": {},
          "execution_count": 49
        }
      ]
    },
    {
      "cell_type": "code",
      "source": [
        "import statistics as st\n",
        "st.median(final_arr)"
      ],
      "metadata": {
        "colab": {
          "base_uri": "https://localhost:8080/"
        },
        "id": "8sJZMQ9Zfa61",
        "outputId": "df06bac9-2a4b-49d5-9655-27a8776dfb60"
      },
      "execution_count": null,
      "outputs": [
        {
          "output_type": "execute_result",
          "data": {
            "text/plain": [
              "5"
            ]
          },
          "metadata": {},
          "execution_count": 50
        }
      ]
    }
  ]
}